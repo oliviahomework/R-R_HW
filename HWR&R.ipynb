{
  "nbformat": 4,
  "nbformat_minor": 0,
  "metadata": {
    "colab": {
      "provenance": [],
      "authorship_tag": "ABX9TyM05VayFJ3SKTcPjLVGewqQ",
      "include_colab_link": true
    },
    "kernelspec": {
      "name": "python3",
      "display_name": "Python 3"
    },
    "language_info": {
      "name": "python"
    }
  },
  "cells": [
    {
      "cell_type": "markdown",
      "metadata": {
        "id": "view-in-github",
        "colab_type": "text"
      },
      "source": [
        "<a href=\"https://colab.research.google.com/github/oliviahomework/R-R_HW/blob/main/HWR%26R.ipynb\" target=\"_parent\"><img src=\"https://colab.research.google.com/assets/colab-badge.svg\" alt=\"Open In Colab\"/></a>"
      ]
    },
    {
      "cell_type": "code",
      "execution_count": null,
      "metadata": {
        "id": "aI0up32Yrleb"
      },
      "outputs": [],
      "source": [
        "Date: 10/26/24\n",
        "2*5\n",
        "\n",
        "Reflection: on how using repositories, tracking changes and publishing like GitHub can help with computational reproducibility.\n",
        "Post this file to your GitHub repository and submit the link to the repository with your homework in it.\n",
        "\n",
        "\n",
        "Databases like Github allow for upload of lengthy code that would otherwise be arduous to publish in a research paper methods section. Therefore, having open access websites where people can upload code helps with reproducibility as people can share large pieces of code that would be be shared otherwise.\n",
        "It also allows for other people to be able to look at your code to help find bugs, share common coding blocks, and brainstorm other ways to implement code. By having one central storage site for extensive code, it helps with continuity as well as people can access the code thruoghout their careers or in different locations as they do not need access to a specific server.\n",
        "Github is also free, although there is a paid version but most of the necessary features are all included in the free version which heavily increases the accessibility of the code within the site. This increases viewers and the audience who can see the public uploads, making the reach of the uploads much larger and impactful.\n",
        "By releasing the code used to analyze results or create the simulation, readers and those who are interested in digging deeper into the methods can puruse the databases online and this can help increase confidence in the models and results.\n",
        "You can also go back and edit your code easily in one place and have others look it over even when they are not near you. All of these are helpful tools for scientific reproducibility and should be utilized more often."
      ]
    }
  ]
}